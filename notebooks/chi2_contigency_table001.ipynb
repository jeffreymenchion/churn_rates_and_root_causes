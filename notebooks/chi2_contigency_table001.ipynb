{
 "cells": [
  {
   "cell_type": "code",
   "execution_count": 6,
   "metadata": {},
   "outputs": [],
   "source": [
    "import pandas as pd\n",
    "import numpy as np\n",
    "from sklearn.model_selection import train_test_split\n",
    "from sklearn.linear_model import LinearRegression\n",
    "from sklearn.metrics import mean_squared_error\n",
    "from scipy.stats import ttest_ind\n",
    "from scipy.stats import chi2_contingency"
   ]
  },
  {
   "cell_type": "code",
   "execution_count": 7,
   "metadata": {},
   "outputs": [],
   "source": [
    "df = pd.read_csv(\"/Users/jeff/Documents/assignments/churn_rates_and_root_causes/data/WA_Fn-UseC_-Telco-Customer-Churn.csv\")\n",
    "#df"
   ]
  },
  {
   "cell_type": "markdown",
   "metadata": {},
   "source": [
    "The Contingency table (also called crosstab) is used to statistics to summarise the relationship between several categorical variables."
   ]
  },
  {
   "cell_type": "code",
   "execution_count": 8,
   "metadata": {},
   "outputs": [
    {
     "name": "stdout",
     "output_type": "stream",
     "text": [
      "Contract Contigency Table:\n",
      "Churn             No   Yes\n",
      "Contract                  \n",
      "Month-to-month  2220  1655\n",
      "One year        1307   166\n",
      "Two year        1647    48\n"
     ]
    }
   ],
   "source": [
    "#Create a contingency table\n",
    "contract_contingency_table = pd.crosstab(df['Contract'], df['Churn'])\n",
    "\n",
    "print(\"Contract Contigency Table:\")\n",
    "print(contract_contingency_table)\n",
    "\n",
    "#Perform the Chi-Square test\n",
    "#chi2, p, _, _ = chi2_contingency(chi2_contingency_table)"
   ]
  },
  {
   "cell_type": "code",
   "execution_count": 12,
   "metadata": {},
   "outputs": [
    {
     "name": "stdout",
     "output_type": "stream",
     "text": [
      "\n",
      "Chi-quare Statistics: 1184.5965720837926\n",
      "P-Value: 5.863038300673391e-258\n",
      "\n"
     ]
    }
   ],
   "source": [
    "#Perform the\n",
    "# Chi-Square Test\n",
    "chi2_stat, p_value, dof, expected = chi2_contingency(contract_contingency_table)\n",
    "\n",
    "\n",
    "print(\"\\nChi-quare Statistics:\", chi2_stat)\n",
    "print(\"P-Value:\", p_value)\n",
    "print()"
   ]
  },
  {
   "cell_type": "markdown",
   "metadata": {},
   "source": [
    "Compare the p-value to the chosen significance level (alpha = 0.05) to determine if there is a significant association between 'Contact' and 'Churn'."
   ]
  },
  {
   "cell_type": "code",
   "execution_count": 15,
   "metadata": {},
   "outputs": [
    {
     "name": "stdout",
     "output_type": "stream",
     "text": [
      "\n",
      "Reject the null hypothesis:  There is a significant association between churn and contract type.\n"
     ]
    }
   ],
   "source": [
    "alpha = 0.05\n",
    "if p_value < alpha:\n",
    "    print('\\nReject the null hypothesis:  There is a significant association between churn and contract type.')\n",
    "else:\n",
    "    print('\\nFail to reject the null hypothesi:  There is no significant association between churn and contract type.')"
   ]
  }
 ],
 "metadata": {
  "kernelspec": {
   "display_name": "base",
   "language": "python",
   "name": "python3"
  },
  "language_info": {
   "codemirror_mode": {
    "name": "ipython",
    "version": 3
   },
   "file_extension": ".py",
   "mimetype": "text/x-python",
   "name": "python",
   "nbconvert_exporter": "python",
   "pygments_lexer": "ipython3",
   "version": "3.11.7"
  }
 },
 "nbformat": 4,
 "nbformat_minor": 2
}
