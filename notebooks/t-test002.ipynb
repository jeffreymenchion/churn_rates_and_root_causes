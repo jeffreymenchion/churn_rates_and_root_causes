{
 "cells": [
  {
   "cell_type": "code",
   "execution_count": 1,
   "metadata": {},
   "outputs": [],
   "source": [
    "import pandas as pd\n",
    "import numpy as np\n",
    "from sklearn.model_selection import train_test_split\n",
    "from sklearn.linear_model import LinearRegression\n",
    "from sklearn.metrics import mean_squared_error\n",
    "from scipy.stats import ttest_ind\n",
    "\n",
    "\n"
   ]
  },
  {
   "cell_type": "code",
   "execution_count": 2,
   "metadata": {},
   "outputs": [],
   "source": [
    "df = pd.read_csv(\"/Users/jeff/Documents/assignments/churn_rates_and_root_causes/data/WA_Fn-UseC_-Telco-Customer-Churn.csv\")\n",
    "#df"
   ]
  },
  {
   "cell_type": "code",
   "execution_count": 3,
   "metadata": {},
   "outputs": [
    {
     "name": "stdout",
     "output_type": "stream",
     "text": [
      "<class 'pandas.core.frame.DataFrame'>\n",
      "RangeIndex: 7043 entries, 0 to 7042\n",
      "Data columns (total 21 columns):\n",
      " #   Column            Non-Null Count  Dtype  \n",
      "---  ------            --------------  -----  \n",
      " 0   customerID        7043 non-null   object \n",
      " 1   gender            7043 non-null   object \n",
      " 2   SeniorCitizen     7043 non-null   int64  \n",
      " 3   Partner           7043 non-null   object \n",
      " 4   Dependents        7043 non-null   object \n",
      " 5   tenure            7043 non-null   int64  \n",
      " 6   PhoneService      7043 non-null   object \n",
      " 7   MultipleLines     7043 non-null   object \n",
      " 8   InternetService   7043 non-null   object \n",
      " 9   OnlineSecurity    7043 non-null   object \n",
      " 10  OnlineBackup      7043 non-null   object \n",
      " 11  DeviceProtection  7043 non-null   object \n",
      " 12  TechSupport       7043 non-null   object \n",
      " 13  StreamingTV       7043 non-null   object \n",
      " 14  StreamingMovies   7043 non-null   object \n",
      " 15  Contract          7043 non-null   object \n",
      " 16  PaperlessBilling  7043 non-null   object \n",
      " 17  PaymentMethod     7043 non-null   object \n",
      " 18  MonthlyCharges    7043 non-null   float64\n",
      " 19  TotalCharges      7043 non-null   object \n",
      " 20  Churn             7043 non-null   object \n",
      "dtypes: float64(1), int64(2), object(18)\n",
      "memory usage: 1.1+ MB\n"
     ]
    }
   ],
   "source": [
    "df.info()"
   ]
  },
  {
   "cell_type": "markdown",
   "metadata": {},
   "source": [
    "Null Hypothesis (H0):  There is a significant difference in monthly charges between churned and not churned customers.\n",
    "Alternative Hypothesis (H1):  There is no significant difference in monthly charges between churned and not churned customers."
   ]
  },
  {
   "cell_type": "code",
   "execution_count": 4,
   "metadata": {},
   "outputs": [
    {
     "name": "stdout",
     "output_type": "stream",
     "text": [
      "T-Statistic:  16.536738015936308, P-Value:  2.7066456068884154e-60\n"
     ]
    }
   ],
   "source": [
    "\n",
    "\n",
    "churned_monthly_charges = df[df['Churn'] =='Yes']['MonthlyCharges']\n",
    "non_churned_monthly_charges = df[df['Churn'] == 'No']['MonthlyCharges']\n",
    "\n",
    "t_stat, p_value=ttest_ind(churned_monthly_charges, non_churned_monthly_charges)\n",
    "\n",
    "print(f\"T-Statistic:  {t_stat}, P-Value:  {p_value}\")"
   ]
  },
  {
   "cell_type": "code",
   "execution_count": 5,
   "metadata": {},
   "outputs": [
    {
     "name": "stdout",
     "output_type": "stream",
     "text": [
      "Reject the null hypothesis:  There is a significant difference in monthly charges between churned and not churned customers.\n"
     ]
    }
   ],
   "source": [
    "#Define the significance level\n",
    "alpha = 0.05\n",
    "\n",
    "#Interpret the p-value\n",
    "if p_value < alpha:\n",
    "    print(\"Reject the null hypothesis:  There is a significant difference in monthly charges between churned and not churned customers.\")\n",
    "else:\n",
    "    print(\"Fail to reject the null hypothesis:  There is no significant difference in monthly charges between churned and not churned customers.\")"
   ]
  },
  {
   "cell_type": "markdown",
   "metadata": {},
   "source": [
    "Null Hypothesis (H0):  There is a significant difference in tenure between churned and not churned customers.\n",
    "Alternative Hypothesis (H1):  There is no significant difference in tenure between churned and not churned customers."
   ]
  },
  {
   "cell_type": "code",
   "execution_count": 6,
   "metadata": {},
   "outputs": [
    {
     "name": "stdout",
     "output_type": "stream",
     "text": [
      "T-Statistic:  -31.57955051135377, P-Value:  7.99905796059022e-205\n"
     ]
    }
   ],
   "source": [
    "churned_tenure = df[df['Churn'] =='Yes']['tenure']\n",
    "non_churned_tenure = df[df['Churn'] == 'No']['tenure']\n",
    "\n",
    "t_stat, p_value=ttest_ind(churned_tenure, non_churned_tenure)\n",
    "\n",
    "print(f\"T-Statistic:  {t_stat}, P-Value:  {p_value}\")"
   ]
  },
  {
   "cell_type": "code",
   "execution_count": 7,
   "metadata": {},
   "outputs": [
    {
     "name": "stdout",
     "output_type": "stream",
     "text": [
      "Reject the null hypothesis:  There is a significant difference in tenure between churned and not churned customers.\n"
     ]
    }
   ],
   "source": [
    "#Interpret the p-value\n",
    "if p_value < alpha:\n",
    "    print(\"Reject the null hypothesis:  There is a significant difference in tenure between churned and not churned customers.\")\n",
    "else:\n",
    "    print(\"Fail to reject the null hypothesis:  There is no significant difference in tenure between churned and not churned customers.\")"
   ]
  }
 ],
 "metadata": {
  "kernelspec": {
   "display_name": "base",
   "language": "python",
   "name": "python3"
  },
  "language_info": {
   "codemirror_mode": {
    "name": "ipython",
    "version": 3
   },
   "file_extension": ".py",
   "mimetype": "text/x-python",
   "name": "python",
   "nbconvert_exporter": "python",
   "pygments_lexer": "ipython3",
   "version": "3.11.7"
  }
 },
 "nbformat": 4,
 "nbformat_minor": 2
}
