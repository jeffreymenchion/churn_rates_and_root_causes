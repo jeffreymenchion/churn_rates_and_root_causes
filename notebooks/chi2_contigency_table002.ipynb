{
 "cells": [
  {
   "cell_type": "code",
   "execution_count": 37,
   "metadata": {},
   "outputs": [],
   "source": [
    "import pandas as pd\n",
    "import numpy as np\n",
    "from sklearn.model_selection import train_test_split\n",
    "from sklearn.linear_model import LinearRegression\n",
    "from sklearn.metrics import mean_squared_error\n",
    "from scipy.stats import ttest_ind\n",
    "from scipy.stats import chi2_contingency"
   ]
  },
  {
   "cell_type": "code",
   "execution_count": 38,
   "metadata": {},
   "outputs": [],
   "source": [
    "df = pd.read_csv(\"/Users/jeff/Documents/assignments/churn_rates_and_root_causes/data/WA_Fn-UseC_-Telco-Customer-Churn.csv\")\n",
    "#df"
   ]
  },
  {
   "cell_type": "markdown",
   "metadata": {},
   "source": [
    "The Contingency table (also called crosstab) is used to statistics to summarise the relationship between several categorical variables."
   ]
  },
  {
   "cell_type": "markdown",
   "metadata": {},
   "source": [
    "Null Hypothesis (H0):  There is no significant difference in churn rates between different contract types.\n",
    "Alternative Hypothesis (H1):  There is a significant difference in churn rates between different contract types. "
   ]
  },
  {
   "cell_type": "code",
   "execution_count": 39,
   "metadata": {},
   "outputs": [
    {
     "name": "stdout",
     "output_type": "stream",
     "text": [
      "Contract Contigency Table:\n",
      "Churn             No   Yes\n",
      "Contract                  \n",
      "Month-to-month  2220  1655\n",
      "One year        1307   166\n",
      "Two year        1647    48\n"
     ]
    }
   ],
   "source": [
    "#Create a contingency table\n",
    "contract_contingency_table = pd.crosstab(df['Contract'], df['Churn'])\n",
    "\n",
    "print(\"Contract Contigency Table:\")\n",
    "print(contract_contingency_table)\n",
    "\n"
   ]
  },
  {
   "cell_type": "code",
   "execution_count": 40,
   "metadata": {},
   "outputs": [
    {
     "name": "stdout",
     "output_type": "stream",
     "text": [
      "\n",
      "Chi-square Statistics: 1184.5965720837926\n",
      "P-Value: 5.863038300673391e-258\n",
      "degrees_of_freedom 2\n"
     ]
    }
   ],
   "source": [
    "#Perform the\n",
    "# Chi-Square Test\n",
    "chi2_stat, p_value, dof, expected = chi2_contingency(contract_contingency_table)\n",
    "\n",
    "\n",
    "\n",
    "print(\"\\nChi-square Statistics:\", chi2_stat)\n",
    "print(\"P-Value:\", p_value)\n",
    "print(\"degrees_of_freedom\", dof)"
   ]
  },
  {
   "cell_type": "markdown",
   "metadata": {},
   "source": [
    "Compare the p-value to the chosen significance level (alpha = 0.05) to determine if there is a significant association between 'Contact' and 'Churn'."
   ]
  },
  {
   "cell_type": "code",
   "execution_count": 41,
   "metadata": {},
   "outputs": [
    {
     "name": "stdout",
     "output_type": "stream",
     "text": [
      "\n",
      "Reject the null hypothesis:  There is a significant association between churn and contract type.\n"
     ]
    }
   ],
   "source": [
    "alpha = 0.05\n",
    "if p_value < alpha:\n",
    "    print('\\nReject the null hypothesis:  There is a significant association between churn and contract type.')\n",
    "else:\n",
    "    print('\\nFail to reject the null hypothesi:  There is no significant association between churn and contract type.')"
   ]
  },
  {
   "cell_type": "markdown",
   "metadata": {},
   "source": [
    "Null Hypothesis (H0):  There is no significant difference in churn rates between senior citizens and non-senior citizens.\n",
    "Alternative Hypothesis (H1):  There is a significant difference in churn rates between senior citizens and non-senior citizens. "
   ]
  },
  {
   "cell_type": "code",
   "execution_count": 42,
   "metadata": {},
   "outputs": [
    {
     "name": "stdout",
     "output_type": "stream",
     "text": [
      "Customer Contigency Table:\n",
      "Churn            No   Yes\n",
      "SeniorCitizen            \n",
      "0              4508  1393\n",
      "1               666   476\n"
     ]
    }
   ],
   "source": [
    "#Create a contingency table\n",
    "customer_contingency_table = pd.crosstab(df['SeniorCitizen'], df['Churn'])\n",
    "\n",
    "print(\"Customer Contigency Table:\")\n",
    "print(customer_contingency_table)"
   ]
  },
  {
   "cell_type": "code",
   "execution_count": 43,
   "metadata": {},
   "outputs": [
    {
     "name": "stdout",
     "output_type": "stream",
     "text": [
      "\n",
      "Chi-square Statistics: 159.42630036838742\n",
      "P-Value: 1.510066805092378e-36\n",
      "degrees_of_freedom 1\n"
     ]
    }
   ],
   "source": [
    "#Perform the\n",
    "# Chi-Square Test\n",
    "chi2_stat, p_value, dof, expected = chi2_contingency(customer_contingency_table)\n",
    "\n",
    "\n",
    "print(\"\\nChi-square Statistics:\", chi2_stat)\n",
    "print(\"P-Value:\", p_value)\n",
    "print(\"degrees_of_freedom\", dof)"
   ]
  },
  {
   "cell_type": "markdown",
   "metadata": {},
   "source": []
  },
  {
   "cell_type": "code",
   "execution_count": 44,
   "metadata": {},
   "outputs": [
    {
     "name": "stdout",
     "output_type": "stream",
     "text": [
      "\n",
      "Reject the null hypothesis:  There is no significant difference in churn rates between senior citizens and non-senior citizens.\n"
     ]
    }
   ],
   "source": [
    "alpha = 0.05\n",
    "if p_value < alpha:\n",
    "    print('\\nReject the null hypothesis:  There is no significant difference in churn rates between senior citizens and non-senior citizens.')\n",
    "else:\n",
    "    print('\\nFail to reject the null hypothesi:  There is a significant difference in churn rates between senior citizens and non-senior citizens.')"
   ]
  },
  {
   "cell_type": "markdown",
   "metadata": {},
   "source": [
    "Null Hypothesis (H0):  There is no significant difference between gender and whether a customer has churned.\n",
    "Alternative Hypothesis (H1):  There is a significant difference between gender and whether a customer has churned. "
   ]
  },
  {
   "cell_type": "code",
   "execution_count": 45,
   "metadata": {},
   "outputs": [
    {
     "data": {
      "text/plain": [
       "Index(['customerID', 'gender', 'SeniorCitizen', 'Partner', 'Dependents',\n",
       "       'tenure', 'PhoneService', 'MultipleLines', 'InternetService',\n",
       "       'OnlineSecurity', 'OnlineBackup', 'DeviceProtection', 'TechSupport',\n",
       "       'StreamingTV', 'StreamingMovies', 'Contract', 'PaperlessBilling',\n",
       "       'PaymentMethod', 'MonthlyCharges', 'TotalCharges', 'Churn'],\n",
       "      dtype='object')"
      ]
     },
     "execution_count": 45,
     "metadata": {},
     "output_type": "execute_result"
    }
   ],
   "source": [
    "df.columns"
   ]
  },
  {
   "cell_type": "code",
   "execution_count": 46,
   "metadata": {},
   "outputs": [
    {
     "name": "stdout",
     "output_type": "stream",
     "text": [
      "Gender Contigency Table:\n",
      "Churn     No  Yes\n",
      "gender           \n",
      "Female  2549  939\n",
      "Male    2625  930\n"
     ]
    }
   ],
   "source": [
    "#Create a contingency table\n",
    "gender_contingency_table = pd.crosstab(df['gender'], df['Churn'])\n",
    "\n",
    "print(\"Gender Contigency Table:\")\n",
    "print(gender_contingency_table)\n",
    "\n"
   ]
  },
  {
   "cell_type": "code",
   "execution_count": 47,
   "metadata": {},
   "outputs": [
    {
     "name": "stdout",
     "output_type": "stream",
     "text": [
      "\n",
      "Chi-square Statistics: 0.4840828822091383\n",
      "P-Value: 0.48657873605618596\n",
      "degrees_of_freedom 1\n"
     ]
    }
   ],
   "source": [
    "#Perform the\n",
    "# Chi-Square Test\n",
    "chi2_stat, p_value, dof, expected = chi2_contingency(gender_contingency_table)\n",
    "\n",
    "\n",
    "print(\"\\nChi-square Statistics:\", chi2_stat)\n",
    "print(\"P-Value:\", p_value)\n",
    "print(\"degrees_of_freedom\", dof)"
   ]
  },
  {
   "cell_type": "code",
   "execution_count": 48,
   "metadata": {},
   "outputs": [
    {
     "name": "stdout",
     "output_type": "stream",
     "text": [
      "\n",
      "Fail to reject the null hypothesi:  There is a significant association between gender and whether a customer has churned.\n"
     ]
    }
   ],
   "source": [
    "alpha = 0.05\n",
    "if p_value < alpha:\n",
    "    print('\\nReject the null hypothesis:  There is no significant association between gender and whether a customer has churned.')\n",
    "else:\n",
    "    print('\\nFail to reject the null hypothesi:  There is a significant association between gender and whether a customer has churned.')"
   ]
  },
  {
   "cell_type": "markdown",
   "metadata": {},
   "source": [
    "Null Hypothesis (H0):  There is a significant association between payment method used by the customer and whether they have churned.\n",
    "Alternative Hypothesis (H1):  There is no significant association between payment method used by the customer and whether they have churned."
   ]
  },
  {
   "cell_type": "code",
   "execution_count": 49,
   "metadata": {},
   "outputs": [
    {
     "name": "stdout",
     "output_type": "stream",
     "text": [
      "Payment Method Contigency Table:\n",
      "Churn                        No   Yes\n",
      "PaymentMethod                        \n",
      "Bank transfer (automatic)  1286   258\n",
      "Credit card (automatic)    1290   232\n",
      "Electronic check           1294  1071\n",
      "Mailed check               1304   308\n"
     ]
    }
   ],
   "source": [
    "#Create a contingency table\n",
    "payment_method_contingency_table = pd.crosstab(df['PaymentMethod'], df['Churn'])\n",
    "\n",
    "print(\"Payment Method Contigency Table:\")\n",
    "print(payment_method_contingency_table)\n"
   ]
  },
  {
   "cell_type": "code",
   "execution_count": 50,
   "metadata": {},
   "outputs": [
    {
     "name": "stdout",
     "output_type": "stream",
     "text": [
      "\n",
      "Chi-square Statistics: 648.1423274814\n",
      "P-Value: 3.6823546520097993e-140\n",
      "degrees_of_freedom 3\n"
     ]
    }
   ],
   "source": [
    "#Perform the\n",
    "# Chi-Square Test\n",
    "chi2_stat, p_value, dof, expected = chi2_contingency(payment_method_contingency_table)\n",
    "\n",
    "\n",
    "print(\"\\nChi-square Statistics:\", chi2_stat)\n",
    "print(\"P-Value:\", p_value)\n",
    "print(\"degrees_of_freedom\", dof)"
   ]
  },
  {
   "cell_type": "code",
   "execution_count": 51,
   "metadata": {},
   "outputs": [
    {
     "name": "stdout",
     "output_type": "stream",
     "text": [
      "\n",
      "Reject the null hypothesis:  There is no significant association between payment method and churn.\n"
     ]
    }
   ],
   "source": [
    "alpha = 0.05\n",
    "if p_value < alpha:\n",
    "    print('\\nReject the null hypothesis:  There is no significant association between payment method and churn.')\n",
    "else:\n",
    "    print('\\nFail to reject the null hypothesi:  There is no significant association between payment method an churn.')"
   ]
  },
  {
   "cell_type": "markdown",
   "metadata": {},
   "source": [
    "Null Hypothesis (H0):  There is a significant relationship between the type of internet service and whether a customer has churned.\n",
    "Alternative Hypothesis (H1):  There is no ignificant relationship between the type of internet service and whether a customer has churned."
   ]
  },
  {
   "cell_type": "code",
   "execution_count": 52,
   "metadata": {},
   "outputs": [
    {
     "name": "stdout",
     "output_type": "stream",
     "text": [
      "Internet Service Contigency Table:\n",
      "Churn              No   Yes\n",
      "InternetService            \n",
      "DSL              1962   459\n",
      "Fiber optic      1799  1297\n",
      "No               1413   113\n"
     ]
    }
   ],
   "source": [
    "#Create a contingency table\n",
    "internet_service_contingency_table = pd.crosstab(df['InternetService'], df['Churn'])\n",
    "\n",
    "print(\"Internet Service Contigency Table:\")\n",
    "print(internet_service_contingency_table)"
   ]
  },
  {
   "cell_type": "code",
   "execution_count": 53,
   "metadata": {},
   "outputs": [
    {
     "name": "stdout",
     "output_type": "stream",
     "text": [
      "\n",
      "Chi-square Statistics: 732.309589667794\n",
      "P-Value: 9.571788222840544e-160\n",
      "degrees_of_freedom 2\n"
     ]
    }
   ],
   "source": [
    "#Perform the\n",
    "# Chi-Square Test\n",
    "chi2_stat, p_value, dof, expected = chi2_contingency(internet_service_contingency_table)\n",
    "\n",
    "\n",
    "print(\"\\nChi-square Statistics:\", chi2_stat)\n",
    "print(\"P-Value:\", p_value)\n",
    "print(\"degrees_of_freedom\", dof)"
   ]
  },
  {
   "cell_type": "code",
   "execution_count": 54,
   "metadata": {},
   "outputs": [
    {
     "name": "stdout",
     "output_type": "stream",
     "text": [
      "\n",
      "Reject the null hypothesis:  There is a significant association between internet service type and churn.\n"
     ]
    }
   ],
   "source": [
    "alpha = 0.05\n",
    "if p_value < alpha:\n",
    "    print('\\nReject the null hypothesis:  There is a significant association between internet service type and churn.')\n",
    "else:\n",
    "    print('\\nFail to reject the null hypothesi:  There is no significant association between internet service type and churn.')"
   ]
  }
 ],
 "metadata": {
  "kernelspec": {
   "display_name": "base",
   "language": "python",
   "name": "python3"
  },
  "language_info": {
   "codemirror_mode": {
    "name": "ipython",
    "version": 3
   },
   "file_extension": ".py",
   "mimetype": "text/x-python",
   "name": "python",
   "nbconvert_exporter": "python",
   "pygments_lexer": "ipython3",
   "version": "3.11.7"
  }
 },
 "nbformat": 4,
 "nbformat_minor": 2
}
